{
 "cells": [
  {
   "cell_type": "code",
   "execution_count": 1,
   "metadata": {},
   "outputs": [
    {
     "data": {
      "text/plain": [
       "'E:\\\\Repo\\\\repo5-上课360'"
      ]
     },
     "execution_count": 1,
     "metadata": {},
     "output_type": "execute_result"
    }
   ],
   "source": [
    "## csv和excel 不一样 \n",
    "import os\n",
    "os.getcwd()\n",
    "path = r'E:\\Repo\\repo5-上课360'\n",
    "os.chdir(path)\n",
    "os.getcwd()"
   ]
  },
  {
   "cell_type": "code",
   "execution_count": 2,
   "metadata": {
    "scrolled": true
   },
   "outputs": [
    {
     "name": "stdout",
     "output_type": "stream",
     "text": [
      "<class 'pandas.core.frame.DataFrame'>\n"
     ]
    }
   ],
   "source": [
    "import pandas as pd\n",
    "data = pd.read_csv('上海.csv',header=None)\n",
    "print(type(data))"
   ]
  },
  {
   "cell_type": "code",
   "execution_count": 17,
   "metadata": {},
   "outputs": [],
   "source": [
    "## List 取日期 但是现在是str ；\n",
    "for i in data[0]:\n",
    "    date = i.split('\\t')[0]\n",
    "    #print(date,type(date))\n",
    "    \n",
    "\n",
    "##无法从April-15格式转为2015-4-30,因此截取首部生成一系列时间戳。\n",
    "datelist = pd.date_range(start='4/1/2015', periods=61,freq='M').tolist()"
   ]
  },
  {
   "cell_type": "code",
   "execution_count": 11,
   "metadata": {
    "collapsed": true
   },
   "outputs": [
    {
     "name": "stdout",
     "output_type": "stream",
     "text": [
      "拼接 54036\n",
      "拼接完成-----\n",
      "拼接 55215\n",
      "拼接完成-----\n",
      "拼接 50433\n",
      "拼接完成-----\n",
      "拼接 50773\n",
      "拼接完成-----\n",
      "拼接 48889\n",
      "拼接完成-----\n",
      "拼接 53044\n",
      "拼接完成-----\n",
      "拼接 53742\n",
      "拼接完成-----\n",
      "拼接 53832\n",
      "拼接完成-----\n",
      "拼接 53775\n",
      "拼接完成-----\n",
      "拼接 55070\n",
      "拼接完成-----\n",
      "拼接 55703\n",
      "拼接完成-----\n",
      "拼接 49993\n",
      "拼接完成-----\n",
      "拼接 52544\n",
      "拼接完成-----\n",
      "拼接 51187\n",
      "拼接完成-----\n",
      "拼接 42444\n",
      "拼接完成-----\n",
      "拼接 49601\n",
      "拼接完成-----\n",
      "拼接 47895\n",
      "拼接完成-----\n",
      "拼接 55378\n",
      "拼接完成-----\n",
      "拼接 60409\n",
      "拼接完成-----\n",
      "拼接 50719\n",
      "拼接完成-----\n",
      "拼接 50769\n",
      "拼接完成-----\n",
      "拼接 51626\n",
      "拼接完成-----\n",
      "拼接 51033\n",
      "拼接完成-----\n",
      "拼接 51697\n",
      "拼接完成-----\n",
      "拼接 50935\n",
      "拼接完成-----\n",
      "拼接 52449\n",
      "拼接完成-----\n",
      "拼接 55911\n",
      "拼接完成-----\n",
      "拼接 52427\n",
      "拼接完成-----\n",
      "拼接 50336\n",
      "拼接完成-----\n",
      "拼接 49564\n",
      "拼接完成-----\n",
      "拼接 50783\n",
      "拼接完成-----\n",
      "拼接 57636\n",
      "拼接完成-----\n",
      "拼接 58112\n",
      "拼接完成-----\n",
      "拼接 55596\n",
      "拼接完成-----\n",
      "拼接 53838\n",
      "拼接完成-----\n",
      "拼接 52381\n",
      "拼接完成-----\n",
      "拼接 52813\n",
      "拼接完成-----\n",
      "拼接 46483\n",
      "拼接完成-----\n",
      "拼接 45264\n",
      "拼接完成-----\n",
      "拼接 44321\n",
      "拼接完成-----\n",
      "拼接 43980\n",
      "拼接完成-----\n",
      "拼接 44132\n",
      "拼接完成-----\n",
      "拼接 44023\n",
      "拼接完成-----\n",
      "拼接 44144\n",
      "拼接完成-----\n",
      "拼接 43681\n",
      "拼接完成-----\n",
      "拼接 40344\n",
      "拼接完成-----\n",
      "拼接 39712\n",
      "拼接完成-----\n",
      "拼接 39750\n",
      "拼接完成-----\n",
      "拼接 38747\n",
      "拼接完成-----\n",
      "拼接 36054\n",
      "拼接完成-----\n",
      "拼接 34604\n",
      "拼接完成-----\n",
      "拼接 33946\n",
      "拼接完成-----\n",
      "拼接 32734\n",
      "拼接完成-----\n",
      "拼接 31532\n",
      "拼接完成-----\n",
      "拼接 30384\n",
      "拼接完成-----\n",
      "拼接 30826\n",
      "拼接完成-----\n",
      "拼接 30732\n",
      "拼接完成-----\n",
      "拼接 29929\n",
      "拼接完成-----\n",
      "拼接 29966\n",
      "拼接完成-----\n",
      "拼接 28889\n",
      "拼接完成-----\n",
      "拼接 28889\n",
      "拼接完成-----\n"
     ]
    }
   ],
   "source": [
    "##List 取值操作\n",
    "zhi = []\n",
    "for i in range(len(data)):\n",
    "    #print(data.loc[i][0],'-->',data.loc[i][1])\n",
    "    a = data.loc[i][0]\n",
    "    b = data.loc[i][1]\n",
    "    aa = a.split('\\\"')\n",
    "    #print(aa[1])\n",
    "    bb = b.split('\\\"')\n",
    "    #print(bb[0])\n",
    "    print('拼接',aa[1]+bb[0])\n",
    "    print('拼接完成-----')\n",
    "    zhi.append(int(aa[1]+bb[0]))\n",
    "    "
   ]
  },
  {
   "cell_type": "code",
   "execution_count": 24,
   "metadata": {},
   "outputs": [],
   "source": [
    "zong = dict(zip(datelist,zhi[::-1])) ##两个list合并成一个dict\n",
    "data = pd.DataFrame(zong,index=[0]).T  ##一个dict转化为dataframe"
   ]
  },
  {
   "cell_type": "code",
   "execution_count": 25,
   "metadata": {},
   "outputs": [
    {
     "data": {
      "text/html": [
       "<div>\n",
       "<style scoped>\n",
       "    .dataframe tbody tr th:only-of-type {\n",
       "        vertical-align: middle;\n",
       "    }\n",
       "\n",
       "    .dataframe tbody tr th {\n",
       "        vertical-align: top;\n",
       "    }\n",
       "\n",
       "    .dataframe thead th {\n",
       "        text-align: right;\n",
       "    }\n",
       "</style>\n",
       "<table border=\"1\" class=\"dataframe\">\n",
       "  <thead>\n",
       "    <tr style=\"text-align: right;\">\n",
       "      <th></th>\n",
       "      <th>0</th>\n",
       "    </tr>\n",
       "  </thead>\n",
       "  <tbody>\n",
       "    <tr>\n",
       "      <td>2015-04-30</td>\n",
       "      <td>28889</td>\n",
       "    </tr>\n",
       "    <tr>\n",
       "      <td>2015-05-31</td>\n",
       "      <td>28889</td>\n",
       "    </tr>\n",
       "    <tr>\n",
       "      <td>2015-06-30</td>\n",
       "      <td>29966</td>\n",
       "    </tr>\n",
       "    <tr>\n",
       "      <td>2015-07-31</td>\n",
       "      <td>29929</td>\n",
       "    </tr>\n",
       "    <tr>\n",
       "      <td>2015-08-31</td>\n",
       "      <td>30732</td>\n",
       "    </tr>\n",
       "    <tr>\n",
       "      <td>...</td>\n",
       "      <td>...</td>\n",
       "    </tr>\n",
       "    <tr>\n",
       "      <td>2019-12-31</td>\n",
       "      <td>48889</td>\n",
       "    </tr>\n",
       "    <tr>\n",
       "      <td>2020-01-31</td>\n",
       "      <td>50773</td>\n",
       "    </tr>\n",
       "    <tr>\n",
       "      <td>2020-02-29</td>\n",
       "      <td>50433</td>\n",
       "    </tr>\n",
       "    <tr>\n",
       "      <td>2020-03-31</td>\n",
       "      <td>55215</td>\n",
       "    </tr>\n",
       "    <tr>\n",
       "      <td>2020-04-30</td>\n",
       "      <td>54036</td>\n",
       "    </tr>\n",
       "  </tbody>\n",
       "</table>\n",
       "<p>61 rows × 1 columns</p>\n",
       "</div>"
      ],
      "text/plain": [
       "                0\n",
       "2015-04-30  28889\n",
       "2015-05-31  28889\n",
       "2015-06-30  29966\n",
       "2015-07-31  29929\n",
       "2015-08-31  30732\n",
       "...           ...\n",
       "2019-12-31  48889\n",
       "2020-01-31  50773\n",
       "2020-02-29  50433\n",
       "2020-03-31  55215\n",
       "2020-04-30  54036\n",
       "\n",
       "[61 rows x 1 columns]"
      ]
     },
     "execution_count": 25,
     "metadata": {},
     "output_type": "execute_result"
    }
   ],
   "source": [
    "data ##数据合并完成"
   ]
  }
 ],
 "metadata": {
  "kernelspec": {
   "display_name": "Python 3",
   "language": "python",
   "name": "python3"
  },
  "language_info": {
   "codemirror_mode": {
    "name": "ipython",
    "version": 3
   },
   "file_extension": ".py",
   "mimetype": "text/x-python",
   "name": "python",
   "nbconvert_exporter": "python",
   "pygments_lexer": "ipython3",
   "version": "3.7.4"
  }
 },
 "nbformat": 4,
 "nbformat_minor": 4
}

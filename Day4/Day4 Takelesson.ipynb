{
 "cells": [
  {
   "cell_type": "code",
   "execution_count": 5,
   "metadata": {},
   "outputs": [
    {
     "data": {
      "text/html": [
       "<div>\n",
       "<style scoped>\n",
       "    .dataframe tbody tr th:only-of-type {\n",
       "        vertical-align: middle;\n",
       "    }\n",
       "\n",
       "    .dataframe tbody tr th {\n",
       "        vertical-align: top;\n",
       "    }\n",
       "\n",
       "    .dataframe thead th {\n",
       "        text-align: right;\n",
       "    }\n",
       "</style>\n",
       "<table border=\"1\" class=\"dataframe\">\n",
       "  <thead>\n",
       "    <tr style=\"text-align: right;\">\n",
       "      <th></th>\n",
       "      <th>1</th>\n",
       "      <th>2</th>\n",
       "      <th>3</th>\n",
       "      <th>4</th>\n",
       "      <th>5</th>\n",
       "      <th>6</th>\n",
       "      <th>7</th>\n",
       "      <th>8</th>\n",
       "      <th>9</th>\n",
       "      <th>10</th>\n",
       "      <th>...</th>\n",
       "      <th>53</th>\n",
       "      <th>54</th>\n",
       "      <th>55</th>\n",
       "      <th>56</th>\n",
       "      <th>57</th>\n",
       "      <th>58</th>\n",
       "      <th>59</th>\n",
       "      <th>60</th>\n",
       "      <th>61</th>\n",
       "      <th>62</th>\n",
       "    </tr>\n",
       "    <tr>\n",
       "      <th>0</th>\n",
       "      <th></th>\n",
       "      <th></th>\n",
       "      <th></th>\n",
       "      <th></th>\n",
       "      <th></th>\n",
       "      <th></th>\n",
       "      <th></th>\n",
       "      <th></th>\n",
       "      <th></th>\n",
       "      <th></th>\n",
       "      <th></th>\n",
       "      <th></th>\n",
       "      <th></th>\n",
       "      <th></th>\n",
       "      <th></th>\n",
       "      <th></th>\n",
       "      <th></th>\n",
       "      <th></th>\n",
       "      <th></th>\n",
       "      <th></th>\n",
       "      <th></th>\n",
       "    </tr>\n",
       "  </thead>\n",
       "  <tbody>\n",
       "    <tr>\n",
       "      <td>2020-08-01</td>\n",
       "      <td>880</td>\n",
       "      <td>440</td>\n",
       "      <td>870</td>\n",
       "      <td>440</td>\n",
       "      <td>673</td>\n",
       "      <td>440</td>\n",
       "      <td>870</td>\n",
       "      <td>488</td>\n",
       "      <td>730</td>\n",
       "      <td>400</td>\n",
       "      <td>...</td>\n",
       "      <td>488</td>\n",
       "      <td>870</td>\n",
       "      <td>440</td>\n",
       "      <td>440</td>\n",
       "      <td>673</td>\n",
       "      <td>440.0</td>\n",
       "      <td>440.0</td>\n",
       "      <td>440.0</td>\n",
       "      <td>600.0</td>\n",
       "      <td>NaN</td>\n",
       "    </tr>\n",
       "    <tr>\n",
       "      <td>2020-08-02</td>\n",
       "      <td>880</td>\n",
       "      <td>440</td>\n",
       "      <td>700</td>\n",
       "      <td>440</td>\n",
       "      <td>673</td>\n",
       "      <td>568</td>\n",
       "      <td>440</td>\n",
       "      <td>440</td>\n",
       "      <td>870</td>\n",
       "      <td>1040</td>\n",
       "      <td>...</td>\n",
       "      <td>568</td>\n",
       "      <td>440</td>\n",
       "      <td>440</td>\n",
       "      <td>440</td>\n",
       "      <td>600</td>\n",
       "      <td>NaN</td>\n",
       "      <td>NaN</td>\n",
       "      <td>NaN</td>\n",
       "      <td>NaN</td>\n",
       "      <td>NaN</td>\n",
       "    </tr>\n",
       "    <tr>\n",
       "      <td>2020-08-03</td>\n",
       "      <td>880</td>\n",
       "      <td>440</td>\n",
       "      <td>1610</td>\n",
       "      <td>440</td>\n",
       "      <td>773</td>\n",
       "      <td>650</td>\n",
       "      <td>488</td>\n",
       "      <td>440</td>\n",
       "      <td>730</td>\n",
       "      <td>1610</td>\n",
       "      <td>...</td>\n",
       "      <td>440</td>\n",
       "      <td>673</td>\n",
       "      <td>488</td>\n",
       "      <td>440</td>\n",
       "      <td>440</td>\n",
       "      <td>440.0</td>\n",
       "      <td>600.0</td>\n",
       "      <td>NaN</td>\n",
       "      <td>NaN</td>\n",
       "      <td>NaN</td>\n",
       "    </tr>\n",
       "    <tr>\n",
       "      <td>2020-08-04</td>\n",
       "      <td>880</td>\n",
       "      <td>490</td>\n",
       "      <td>1610</td>\n",
       "      <td>490</td>\n",
       "      <td>773</td>\n",
       "      <td>490</td>\n",
       "      <td>490</td>\n",
       "      <td>1190</td>\n",
       "      <td>488</td>\n",
       "      <td>730</td>\n",
       "      <td>...</td>\n",
       "      <td>1040</td>\n",
       "      <td>650</td>\n",
       "      <td>640</td>\n",
       "      <td>673</td>\n",
       "      <td>490</td>\n",
       "      <td>490.0</td>\n",
       "      <td>490.0</td>\n",
       "      <td>600.0</td>\n",
       "      <td>NaN</td>\n",
       "      <td>NaN</td>\n",
       "    </tr>\n",
       "    <tr>\n",
       "      <td>2020-08-05</td>\n",
       "      <td>880</td>\n",
       "      <td>490</td>\n",
       "      <td>1610</td>\n",
       "      <td>490</td>\n",
       "      <td>773</td>\n",
       "      <td>568</td>\n",
       "      <td>1190</td>\n",
       "      <td>490</td>\n",
       "      <td>730</td>\n",
       "      <td>820</td>\n",
       "      <td>...</td>\n",
       "      <td>1190</td>\n",
       "      <td>1610</td>\n",
       "      <td>1080</td>\n",
       "      <td>910</td>\n",
       "      <td>873</td>\n",
       "      <td>568.0</td>\n",
       "      <td>490.0</td>\n",
       "      <td>490.0</td>\n",
       "      <td>490.0</td>\n",
       "      <td>600.0</td>\n",
       "    </tr>\n",
       "  </tbody>\n",
       "</table>\n",
       "<p>5 rows × 62 columns</p>\n",
       "</div>"
      ],
      "text/plain": [
       "             1    2     3    4    5    6     7     8    9     10  ...    53  \\\n",
       "0                                                                 ...         \n",
       "2020-08-01  880  440   870  440  673  440   870   488  730   400  ...   488   \n",
       "2020-08-02  880  440   700  440  673  568   440   440  870  1040  ...   568   \n",
       "2020-08-03  880  440  1610  440  773  650   488   440  730  1610  ...   440   \n",
       "2020-08-04  880  490  1610  490  773  490   490  1190  488   730  ...  1040   \n",
       "2020-08-05  880  490  1610  490  773  568  1190   490  730   820  ...  1190   \n",
       "\n",
       "              54    55   56   57     58     59     60     61     62  \n",
       "0                                                                    \n",
       "2020-08-01   870   440  440  673  440.0  440.0  440.0  600.0    NaN  \n",
       "2020-08-02   440   440  440  600    NaN    NaN    NaN    NaN    NaN  \n",
       "2020-08-03   673   488  440  440  440.0  600.0    NaN    NaN    NaN  \n",
       "2020-08-04   650   640  673  490  490.0  490.0  600.0    NaN    NaN  \n",
       "2020-08-05  1610  1080  910  873  568.0  490.0  490.0  490.0  600.0  \n",
       "\n",
       "[5 rows x 62 columns]"
      ]
     },
     "execution_count": 5,
     "metadata": {},
     "output_type": "execute_result"
    }
   ],
   "source": [
    "import pandas as pd\n",
    "data = pd.read_csv(r'E:\\Repo\\repo9-作业\\数据库\\机票信息.csv', index_col=0,header=None)\n",
    "data.head()"
   ]
  },
  {
   "cell_type": "code",
   "execution_count": 6,
   "metadata": {},
   "outputs": [],
   "source": [
    "import numpy as np\n",
    "data['pr'] = np.mean(data)"
   ]
  },
  {
   "cell_type": "code",
   "execution_count": 18,
   "metadata": {},
   "outputs": [],
   "source": [
    "a = list(data.iloc[1,:])[-1]"
   ]
  },
  {
   "cell_type": "code",
   "execution_count": 20,
   "metadata": {},
   "outputs": [
    {
     "data": {
      "text/plain": [
       "float"
      ]
     },
     "execution_count": 20,
     "metadata": {},
     "output_type": "execute_result"
    }
   ],
   "source": [
    "type(a)"
   ]
  },
  {
   "cell_type": "code",
   "execution_count": 21,
   "metadata": {},
   "outputs": [
    {
     "ename": "NameError",
     "evalue": "name 'isnan' is not defined",
     "output_type": "error",
     "traceback": [
      "\u001b[1;31m---------------------------------------------------------------------------\u001b[0m",
      "\u001b[1;31mNameError\u001b[0m                                 Traceback (most recent call last)",
      "\u001b[1;32m<ipython-input-21-053f4f2b2a24>\u001b[0m in \u001b[0;36m<module>\u001b[1;34m\u001b[0m\n\u001b[1;32m----> 1\u001b[1;33m \u001b[0misnan\u001b[0m\u001b[1;33m(\u001b[0m\u001b[0ma\u001b[0m\u001b[1;33m)\u001b[0m\u001b[1;33m\u001b[0m\u001b[1;33m\u001b[0m\u001b[0m\n\u001b[0m",
      "\u001b[1;31mNameError\u001b[0m: name 'isnan' is not defined"
     ]
    }
   ],
   "source": [
    "isnan(a)"
   ]
  },
  {
   "cell_type": "code",
   "execution_count": 22,
   "metadata": {},
   "outputs": [
    {
     "data": {
      "text/plain": [
       "True"
      ]
     },
     "execution_count": 22,
     "metadata": {},
     "output_type": "execute_result"
    }
   ],
   "source": [
    "import math\n",
    "\n",
    "math.isnan(a)"
   ]
  },
  {
   "cell_type": "code",
   "execution_count": 25,
   "metadata": {},
   "outputs": [],
   "source": [
    "price_list = []\n",
    "for i in range(0,len(data)):\n",
    "    price = []\n",
    "    for j in list(data.iloc[i,:]):\n",
    "        if math.isnan(j) != True:\n",
    "            price.append(j)\n",
    "    price_list.append(price)"
   ]
  },
  {
   "cell_type": "code",
   "execution_count": null,
   "metadata": {},
   "outputs": [],
   "source": []
  },
  {
   "cell_type": "code",
   "execution_count": 34,
   "metadata": {
    "scrolled": true
   },
   "outputs": [
    {
     "name": "stdout",
     "output_type": "stream",
     "text": [
      "741.9508196721312\n",
      "932.2631578947369\n",
      "903.542372881356\n",
      "986.15\n",
      "1100.9516129032259\n",
      "1115.9\n",
      "1333.7796610169491\n",
      "766.7868852459017\n",
      "951.1228070175439\n",
      "924.9830508474577\n",
      "986.7333333333333\n",
      "1101.516129032258\n",
      "1115.9\n",
      "1334.1694915254238\n",
      "766.7868852459017\n",
      "950.1578947368421\n",
      "924.9830508474577\n",
      "986.7333333333333\n",
      "1101.516129032258\n",
      "1121.0666666666666\n",
      "1334.5254237288136\n",
      "766.7868852459017\n",
      "949.5964912280701\n",
      "922.9491525423729\n",
      "983.7333333333333\n",
      "1099.5806451612902\n",
      "1113.9\n",
      "1331.406779661017\n",
      "756.2950819672132\n",
      "945.3333333333334\n",
      "922.9491525423729\n"
     ]
    }
   ],
   "source": [
    "mean_pr = []\n",
    "for i in price_list:\n",
    "    print(np.mean(i))\n",
    "    mean_pr.append(np.mean(i))"
   ]
  },
  {
   "cell_type": "code",
   "execution_count": 37,
   "metadata": {},
   "outputs": [],
   "source": [
    "data = pd.DataFrame(mean_pr)\n",
    "data.index = pd.date_range('8/1/2020',periods=31,freq='D')"
   ]
  },
  {
   "cell_type": "code",
   "execution_count": 40,
   "metadata": {},
   "outputs": [],
   "source": [
    "data.to_csv('机票价格N.csv',header=None,encoding='utf-8_sig')"
   ]
  },
  {
   "cell_type": "code",
   "execution_count": 32,
   "metadata": {
    "scrolled": false
   },
   "outputs": [],
   "source": [
    "data['pr'] = mean_pr"
   ]
  },
  {
   "cell_type": "code",
   "execution_count": 33,
   "metadata": {},
   "outputs": [
    {
     "data": {
      "text/plain": [
       "0\n",
       "2020-08-01     741.950820\n",
       "2020-08-02     932.263158\n",
       "2020-08-03     903.542373\n",
       "2020-08-04     986.150000\n",
       "2020-08-05    1100.951613\n",
       "2020-08-06    1115.900000\n",
       "2020-08-07    1333.779661\n",
       "2020-08-08     766.786885\n",
       "2020-08-09     951.122807\n",
       "2020-08-10     924.983051\n",
       "2020-08-11     986.733333\n",
       "2020-08-12    1101.516129\n",
       "2020-08-13    1115.900000\n",
       "2020-08-14    1334.169492\n",
       "2020-08-15     766.786885\n",
       "2020-08-16     950.157895\n",
       "2020-08-17     924.983051\n",
       "2020-08-18     986.733333\n",
       "2020-08-19    1101.516129\n",
       "2020-08-20    1121.066667\n",
       "2020-08-21    1334.525424\n",
       "2020-08-22     766.786885\n",
       "2020-08-23     949.596491\n",
       "2020-08-24     922.949153\n",
       "2020-08-25     983.733333\n",
       "2020-08-26    1099.580645\n",
       "2020-08-27    1113.900000\n",
       "2020-08-28    1331.406780\n",
       "2020-08-29     756.295082\n",
       "2020-08-30     945.333333\n",
       "2020-08-31     922.949153\n",
       "Name: pr, dtype: float64"
      ]
     },
     "execution_count": 33,
     "metadata": {},
     "output_type": "execute_result"
    }
   ],
   "source": [
    "data['pr']"
   ]
  },
  {
   "cell_type": "code",
   "execution_count": null,
   "metadata": {},
   "outputs": [],
   "source": []
  }
 ],
 "metadata": {
  "kernelspec": {
   "display_name": "Python 3",
   "language": "python",
   "name": "python3"
  },
  "language_info": {
   "codemirror_mode": {
    "name": "ipython",
    "version": 3
   },
   "file_extension": ".py",
   "mimetype": "text/x-python",
   "name": "python",
   "nbconvert_exporter": "python",
   "pygments_lexer": "ipython3",
   "version": "3.7.4"
  }
 },
 "nbformat": 4,
 "nbformat_minor": 2
}
